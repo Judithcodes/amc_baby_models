{
 "cells": [
  {
   "cell_type": "markdown",
   "metadata": {},
   "source": [
    "# Prep some data"
   ]
  },
  {
   "cell_type": "code",
   "execution_count": 1,
   "metadata": {},
   "outputs": [],
   "source": [
    "import scipy.io as sio\n",
    "import numpy as np\n",
    "\n",
    "import matplotlib.pyplot as plt\n",
    "\n",
    "import time\n",
    "\n",
    "np.random.seed(69)"
   ]
  },
  {
   "cell_type": "code",
   "execution_count": 2,
   "metadata": {
    "scrolled": true
   },
   "outputs": [
    {
     "name": "stdout",
     "output_type": "stream",
     "text": [
      "(2048, 128, 2)\n",
      "(2048, 1, 128, 2)\n",
      "['bpsk', 'qpsk']\n",
      "(2048,)\n"
     ]
    }
   ],
   "source": [
    "datasets = sio.loadmat('../data.mat')\n",
    "\n",
    "# Remove keys that aren't modulation schemes\n",
    "del(datasets['__header__'], datasets['__globals__'], datasets['__version__'])\n",
    "\n",
    "train_data = np.vstack([mod_scheme[0] for dataset in datasets for mod_scheme in datasets[dataset][0]])\n",
    "\n",
    "print(train_data.shape)\n",
    "\n",
    "train_data = np.reshape(train_data, [-1, 1, 128, 2])\n",
    "\n",
    "print(train_data.shape)\n",
    "\n",
    "print([dataset for dataset in datasets for mod_scheme in datasets[dataset][0]])\n",
    "\n",
    "# Number of classes\n",
    "num_classes = len(datasets)\n",
    "size = int(train_data.shape[0]/num_classes)\n",
    "\n",
    "train_labels = np.zeros((train_data.shape[0],1))\n",
    "\n",
    "for i in range(num_classes):\n",
    "    train_labels[(i)*size:(i+1)*size] = np.ones((size, 1)) * i\n",
    "\n",
    "# One hot encoding\n",
    "labels = np.reshape(train_labels, [-1]) # Reshape into (N,) from (N,1), otherwise assignments get messed up\n",
    "#labels_encoded = np.zeros((labels.shape[0], num_classes))\n",
    "#labels_encoded[np.arange(labels.shape[0]), labels.astype(int)] = 1\n",
    "\n",
    "train_labels = labels\n",
    "\n",
    "print(train_labels.shape)"
   ]
  },
  {
   "cell_type": "code",
   "execution_count": 3,
   "metadata": {},
   "outputs": [],
   "source": [
    "# Shuffle\n",
    "indexes = np.arange(train_labels.shape[0])\n",
    "np.random.shuffle(indexes)\n",
    "\n",
    "train_data = train_data[indexes]\n",
    "train_labels = train_labels[indexes]"
   ]
  },
  {
   "cell_type": "code",
   "execution_count": 4,
   "metadata": {},
   "outputs": [
    {
     "name": "stderr",
     "output_type": "stream",
     "text": [
      "/usr/lib/python3/dist-packages/h5py/__init__.py:36: FutureWarning: Conversion of the second argument of issubdtype from `float` to `np.floating` is deprecated. In future, it will be treated as `np.float64 == np.dtype(float).type`.\n",
      "  from ._conv import register_converters as _register_converters\n"
     ]
    }
   ],
   "source": [
    "# Save thing in HDF5\n",
    "import h5py, os\n",
    "\n",
    "f = h5py.File('training_data.h5', 'w')\n",
    "f['data'] = train_data\n",
    "f['label'] = train_labels\n",
    "f.close()\n",
    "\n",
    "text_train = os.path.join('./', 'train_data.txt')\n",
    "with open(text_train, 'w') as g:\n",
    "    print('training_data.h5', file = g)\n",
    "    g.close()"
   ]
  },
  {
   "cell_type": "markdown",
   "metadata": {},
   "source": [
    "# Do caffe stuff"
   ]
  },
  {
   "cell_type": "code",
   "execution_count": 5,
   "metadata": {},
   "outputs": [],
   "source": [
    "import caffe"
   ]
  },
  {
   "cell_type": "code",
   "execution_count": 6,
   "metadata": {},
   "outputs": [],
   "source": [
    "caffe.set_device(0)\n",
    "caffe.set_mode_cpu()"
   ]
  },
  {
   "cell_type": "code",
   "execution_count": 7,
   "metadata": {},
   "outputs": [],
   "source": [
    "net = caffe.Net('amc_network.prototxt', caffe.TEST)"
   ]
  },
  {
   "cell_type": "code",
   "execution_count": 8,
   "metadata": {},
   "outputs": [
    {
     "data": {
      "text/plain": [
       "[('data', (64, 1, 128, 2)),\n",
       " ('label', (64,)),\n",
       " ('label_data_1_split_0', (64,)),\n",
       " ('label_data_1_split_1', (64,)),\n",
       " ('conv', (64, 16, 127, 1)),\n",
       " ('output', (64, 2032)),\n",
       " ('ip1', (64, 1)),\n",
       " ('ip1_ip1_0_split_0', (64, 1)),\n",
       " ('ip1_ip1_0_split_1', (64, 1)),\n",
       " ('loss', ()),\n",
       " ('accuracy', ())]"
      ]
     },
     "execution_count": 8,
     "metadata": {},
     "output_type": "execute_result"
    }
   ],
   "source": [
    "[(k, v.data.shape) for k, v in net.blobs.items()]"
   ]
  },
  {
   "cell_type": "code",
   "execution_count": 9,
   "metadata": {},
   "outputs": [],
   "source": [
    "solver = caffe.get_solver('solver.prototxt')"
   ]
  },
  {
   "cell_type": "code",
   "execution_count": 10,
   "metadata": {},
   "outputs": [],
   "source": [
    "solver.solve()"
   ]
  },
  {
   "cell_type": "code",
   "execution_count": 11,
   "metadata": {},
   "outputs": [],
   "source": [
    "accuracy = 0\n",
    "batch_size = solver.test_nets[0].blobs['data'].num\n",
    "for i in range(4500):\n",
    "    solver.test_nets[0].forward()\n",
    "    accuracy += solver.test_nets[0].blobs['accuracy'].data\n",
    "accuracy /= 4500"
   ]
  },
  {
   "cell_type": "code",
   "execution_count": 12,
   "metadata": {},
   "outputs": [
    {
     "data": {
      "text/plain": [
       "1.0"
      ]
     },
     "execution_count": 12,
     "metadata": {},
     "output_type": "execute_result"
    }
   ],
   "source": [
    "accuracy"
   ]
  },
  {
   "cell_type": "code",
   "execution_count": null,
   "metadata": {},
   "outputs": [],
   "source": []
  }
 ],
 "metadata": {
  "kernelspec": {
   "display_name": "Python 3",
   "language": "python",
   "name": "python3"
  },
  "language_info": {
   "codemirror_mode": {
    "name": "ipython",
    "version": 3
   },
   "file_extension": ".py",
   "mimetype": "text/x-python",
   "name": "python",
   "nbconvert_exporter": "python",
   "pygments_lexer": "ipython3",
   "version": "3.6.5"
  }
 },
 "nbformat": 4,
 "nbformat_minor": 2
}
