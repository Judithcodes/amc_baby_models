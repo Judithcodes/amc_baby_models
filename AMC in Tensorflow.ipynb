{
 "cells": [
  {
   "cell_type": "code",
   "execution_count": 1,
   "metadata": {
    "collapsed": true
   },
   "outputs": [],
   "source": [
    "import scipy.io as sio\n",
    "import numpy as np"
   ]
  },
  {
   "cell_type": "code",
   "execution_count": 2,
   "metadata": {
    "collapsed": true
   },
   "outputs": [],
   "source": [
    "datasets = sio.loadmat('./train_data.mat')"
   ]
  },
  {
   "cell_type": "code",
   "execution_count": 3,
   "metadata": {
    "collapsed": true
   },
   "outputs": [],
   "source": [
    "# Do the waveforms\n",
    "train_data = np.concatenate(([dataset[0][1] for dataset in datasets['all_datasets']]), axis=0)"
   ]
  },
  {
   "cell_type": "code",
   "execution_count": 4,
   "metadata": {
    "collapsed": true
   },
   "outputs": [],
   "source": [
    "size = datasets['all_datasets'][0][0][1].shape[0]\n",
    "# Figure out how many labels there'll be\n",
    "train_labels = np.zeros((train_data.shape[0],1))\n",
    "for i in range(datasets['all_datasets'].shape[0]):\n",
    "    train_labels[(i)*size:(i+1)*size] = np.ones((datasets['all_datasets'][0][0][0].shape[0]))*datasets['all_datasets'][i][0][2]\n",
    "\n",
    "# One hot encoding\n",
    "labels = np.reshape(train_labels, [-1]) # Reshape into (N,) from (N,1), otherwise assignments get messed up\n",
    "labels_encoded = np.zeros((labels.shape[0], int(train_labels.max())))\n",
    "labels_encoded[np.arange(labels.shape[0]), labels.astype(int)-1] = 1"
   ]
  },
  {
   "cell_type": "code",
   "execution_count": 5,
   "metadata": {
    "collapsed": true
   },
   "outputs": [],
   "source": [
    "import tensorflow as tf"
   ]
  },
  {
   "cell_type": "code",
   "execution_count": 6,
   "metadata": {},
   "outputs": [
    {
     "data": {
      "text/plain": [
       "'1.8.0'"
      ]
     },
     "execution_count": 6,
     "metadata": {},
     "output_type": "execute_result"
    }
   ],
   "source": [
    "tf.__version__"
   ]
  },
  {
   "cell_type": "code",
   "execution_count": 7,
   "metadata": {
    "collapsed": true
   },
   "outputs": [],
   "source": [
    "my_input = tf.placeholder(tf.float32, shape=(None, train_data.shape[1], train_data.shape[2]))\n",
    "\n",
    "# Create conv net\n",
    "x_image = tf.reshape(my_input, [-1, 128, 2, 1])\n",
    "\n",
    "num_filt0 = 32\n",
    "num_filt1 = 16\n",
    "\n",
    "# First conv layer\n",
    "W_conv1 = tf.Variable(tf.truncated_normal([16, 2, 1, num_filt0], stddev=0.1))\n",
    "b_conv1 = tf.Variable(tf.constant(0.1, shape=[num_filt0]))\n",
    "\n",
    "h_conv1 = tf.nn.relu(tf.nn.conv2d(x_image, W_conv1, strides=[1, 1, 1, 1], padding='VALID') + b_conv1)\n",
    "\n",
    "# Second conv layer\n",
    "W_conv2 = tf.Variable(tf.truncated_normal([8, 1, num_filt0, num_filt1], stddev=0.1))\n",
    "b_conv2 = tf.Variable(tf.constant(0.1, shape=[num_filt1]))\n",
    "\n",
    "h_conv2 = tf.nn.relu(tf.nn.conv2d(h_conv1, W_conv2, strides=[1, 1, 1, 1], padding='VALID') + b_conv2)\n",
    "\n",
    "h_flat = tf.reshape(h_conv2, [-1, h_conv2.get_shape().as_list()[1] * num_filt1])\n",
    "\n",
    "nn_out = tf.layers.dense(inputs=h_flat, units=6, activation=tf.nn.relu)"
   ]
  },
  {
   "cell_type": "code",
   "execution_count": 8,
   "metadata": {
    "collapsed": true
   },
   "outputs": [],
   "source": [
    "onehot_labels = tf.placeholder(tf.float32, shape=(None, 6))\n",
    "\n",
    "loss = tf.losses.softmax_cross_entropy(onehot_labels=onehot_labels, logits=nn_out)\n",
    "\n",
    "optimizer = tf.train.AdamOptimizer(learning_rate = 0.0001)\n",
    "\n",
    "train_op = optimizer.minimize(loss)\n",
    "\n",
    "correct_prediction = tf.equal(tf.argmax(nn_out, 1), tf.argmax(onehot_labels, 1))\n",
    "accuracy = tf.reduce_mean(tf.cast(correct_prediction, tf.float32))"
   ]
  },
  {
   "cell_type": "code",
   "execution_count": 9,
   "metadata": {
    "scrolled": true
   },
   "outputs": [
    {
     "name": "stdout",
     "output_type": "stream",
     "text": [
      "Epoch 0, loss 1.75473 acc 0.25\n",
      "Epoch 1, loss 1.7558 acc 0.25\n",
      "Epoch 2, loss 1.69048 acc 0.1875\n",
      "Epoch 3, loss 1.63741 acc 0.3125\n",
      "Epoch 4, loss 1.63124 acc 0.5\n",
      "Epoch 5, loss 1.55467 acc 0.59375\n",
      "Epoch 6, loss 1.56197 acc 0.46875\n",
      "Epoch 7, loss 1.4138 acc 0.65625\n",
      "Epoch 8, loss 1.45816 acc 0.5\n",
      "Epoch 9, loss 1.41368 acc 0.59375\n",
      "Epoch 10, loss 1.41703 acc 0.5\n",
      "Epoch 11, loss 1.3193 acc 0.65625\n",
      "Epoch 12, loss 1.25411 acc 0.625\n",
      "Epoch 13, loss 1.2342 acc 0.6875\n",
      "Epoch 14, loss 0.941684 acc 0.78125\n",
      "Epoch 15, loss 1.02854 acc 0.71875\n",
      "Epoch 16, loss 1.10181 acc 0.6875\n",
      "Epoch 17, loss 0.829172 acc 0.8125\n",
      "Epoch 18, loss 0.977971 acc 0.6875\n",
      "Epoch 19, loss 0.975534 acc 0.6875\n",
      "Epoch 20, loss 0.984156 acc 0.6875\n",
      "Epoch 21, loss 0.882982 acc 0.75\n",
      "Epoch 22, loss 0.948082 acc 0.75\n",
      "Epoch 23, loss 0.773229 acc 0.8125\n",
      "Epoch 24, loss 0.660389 acc 0.90625\n",
      "Epoch 25, loss 0.800517 acc 0.75\n",
      "Epoch 26, loss 0.611507 acc 0.90625\n",
      "Epoch 27, loss 0.703971 acc 0.84375\n",
      "Epoch 28, loss 0.59752 acc 0.90625\n",
      "Epoch 29, loss 0.820843 acc 0.71875\n",
      "Epoch 30, loss 0.557563 acc 0.84375\n",
      "Epoch 31, loss 0.531982 acc 0.875\n",
      "Epoch 32, loss 0.658414 acc 0.8125\n",
      "Epoch 33, loss 0.572925 acc 0.84375\n",
      "Epoch 34, loss 0.635568 acc 0.84375\n",
      "Epoch 35, loss 0.493267 acc 0.875\n",
      "Epoch 36, loss 0.489686 acc 0.9375\n",
      "Epoch 37, loss 0.612319 acc 0.78125\n",
      "Epoch 38, loss 0.591932 acc 0.71875\n",
      "Epoch 39, loss 0.543167 acc 0.96875\n",
      "Epoch 40, loss 0.438548 acc 0.96875\n",
      "Epoch 41, loss 0.563624 acc 0.84375\n",
      "Epoch 42, loss 0.506694 acc 0.875\n",
      "Epoch 43, loss 0.512288 acc 0.875\n",
      "Epoch 44, loss 0.39127 acc 0.96875\n",
      "Epoch 45, loss 0.444277 acc 0.875\n",
      "Epoch 46, loss 0.431435 acc 0.90625\n",
      "Epoch 47, loss 0.496897 acc 0.875\n",
      "Epoch 48, loss 0.465575 acc 0.875\n",
      "Epoch 49, loss 0.594005 acc 0.8125\n",
      "Epoch 50, loss 0.477546 acc 0.875\n",
      "Epoch 51, loss 0.283651 acc 0.90625\n",
      "Epoch 52, loss 0.462397 acc 0.9375\n",
      "Epoch 53, loss 0.374544 acc 0.84375\n",
      "Epoch 54, loss 0.308071 acc 1\n",
      "Epoch 55, loss 0.290058 acc 0.96875\n",
      "Epoch 56, loss 0.377438 acc 0.84375\n",
      "Epoch 57, loss 0.268228 acc 0.96875\n",
      "Epoch 58, loss 0.312551 acc 0.96875\n",
      "Epoch 59, loss 0.222485 acc 1\n",
      "Epoch 60, loss 0.246584 acc 0.9375\n",
      "Epoch 61, loss 0.201783 acc 1\n",
      "Epoch 62, loss 0.313775 acc 0.96875\n",
      "Epoch 63, loss 0.295277 acc 0.9375\n",
      "Epoch 64, loss 0.333544 acc 0.90625\n",
      "Epoch 65, loss 0.365402 acc 0.8125\n",
      "Epoch 66, loss 0.229346 acc 1\n",
      "Epoch 67, loss 0.295264 acc 0.96875\n",
      "Epoch 68, loss 0.215536 acc 1\n",
      "Epoch 69, loss 0.212963 acc 1\n",
      "Epoch 70, loss 0.212803 acc 1\n",
      "Epoch 71, loss 0.256264 acc 0.96875\n",
      "Epoch 72, loss 0.290713 acc 0.84375\n",
      "Epoch 73, loss 0.194374 acc 0.9375\n",
      "Epoch 74, loss 0.275491 acc 0.9375\n",
      "Epoch 75, loss 0.284328 acc 0.96875\n",
      "Epoch 76, loss 0.289607 acc 0.90625\n",
      "Epoch 77, loss 0.27035 acc 0.90625\n",
      "Epoch 78, loss 0.25479 acc 0.96875\n",
      "Epoch 79, loss 0.155974 acc 1\n",
      "Epoch 80, loss 0.183107 acc 0.9375\n",
      "Epoch 81, loss 0.132382 acc 1\n",
      "Epoch 82, loss 0.200185 acc 0.9375\n",
      "Epoch 83, loss 0.138443 acc 0.96875\n",
      "Epoch 84, loss 0.0759617 acc 1\n",
      "Epoch 85, loss 0.169323 acc 0.96875\n",
      "Epoch 86, loss 0.254896 acc 0.90625\n",
      "Epoch 87, loss 0.145465 acc 1\n",
      "Epoch 88, loss 0.158248 acc 0.96875\n",
      "Epoch 89, loss 0.244212 acc 0.9375\n",
      "Epoch 90, loss 0.152848 acc 1\n",
      "Epoch 91, loss 0.151989 acc 1\n",
      "Epoch 92, loss 0.246761 acc 0.96875\n",
      "Epoch 93, loss 0.176328 acc 0.96875\n",
      "Epoch 94, loss 0.131411 acc 1\n",
      "Epoch 95, loss 0.133659 acc 0.96875\n",
      "Epoch 96, loss 0.176014 acc 0.96875\n",
      "Epoch 97, loss 0.256309 acc 0.90625\n",
      "Epoch 98, loss 0.212031 acc 1\n",
      "Epoch 99, loss 0.172416 acc 1\n"
     ]
    }
   ],
   "source": [
    "train_labels = labels_encoded\n",
    "\n",
    "batch_size = 32\n",
    "num_epochs = 100\n",
    "\n",
    "losses = []\n",
    "#tf.reset_default_graph()\n",
    "sess = tf.Session()\n",
    "\n",
    "sess.run(tf.global_variables_initializer())\n",
    "for epoch in range(num_epochs):\n",
    "\n",
    "    # Randomize\n",
    "    indexes = np.arange(train_labels.shape[0])\n",
    "    np.random.shuffle(indexes)\n",
    "\n",
    "    train_data = train_data[indexes]\n",
    "    train_labels = train_labels[indexes]\n",
    "\n",
    "    for i in range(int(train_data.shape[0]/batch_size)):\n",
    "        batch = train_data[range(i*batch_size,(i+1)*batch_size)]\n",
    "        batch_labels = train_labels[range(i*batch_size,(i+1)*batch_size)]\n",
    "\n",
    "        train_op.run(session=sess, feed_dict={my_input: batch, \n",
    "                                onehot_labels: batch_labels})\n",
    "\n",
    "        train_accuracy = accuracy.eval(session=sess, feed_dict={my_input: batch, \n",
    "                                                  onehot_labels: batch_labels})\n",
    "\n",
    "        train_loss = loss.eval(session=sess, feed_dict={my_input: batch,\n",
    "                                          onehot_labels: batch_labels})\n",
    "\n",
    "    losses.append(train_loss)\n",
    "    print('Epoch %d, loss %g acc %g' % (epoch, train_loss, train_accuracy))"
   ]
  },
  {
   "cell_type": "code",
   "execution_count": 10,
   "metadata": {
    "collapsed": true
   },
   "outputs": [],
   "source": [
    "import matplotlib.pyplot as plt"
   ]
  },
  {
   "cell_type": "code",
   "execution_count": 11,
   "metadata": {},
   "outputs": [
    {
     "data": {
      "image/png": "[encoded data removed]",
      "text/plain": [
       "<matplotlib.figure.Figure at 0x7f682064d4a8>"
      ]
     },
     "metadata": {},
     "output_type": "display_data"
    }
   ],
   "source": [
    "plt.plot(losses)\n",
    "plt.show()"
   ]
  },
  {
   "cell_type": "code",
   "execution_count": null,
   "metadata": {
    "collapsed": true
   },
   "outputs": [],
   "source": []
  }
 ],
 "metadata": {
  "kernelspec": {
   "display_name": "Python 3",
   "language": "python",
   "name": "python3"
  },
  "language_info": {
   "codemirror_mode": {
    "name": "ipython",
    "version": 3
   },
   "file_extension": ".py",
   "mimetype": "text/x-python",
   "name": "python",
   "nbconvert_exporter": "python",
   "pygments_lexer": "ipython3",
   "version": "3.5.2"
  }
 },
 "nbformat": 4,
 "nbformat_minor": 2
}
