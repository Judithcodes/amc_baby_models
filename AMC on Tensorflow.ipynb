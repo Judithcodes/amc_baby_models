{
 "cells": [
  {
   "cell_type": "markdown",
   "metadata": {},
   "source": [
    "## Import stuff and set random seed"
   ]
  },
  {
   "cell_type": "code",
   "execution_count": 34,
   "metadata": {},
   "outputs": [],
   "source": [
    "import scipy.io as sio\n",
    "import numpy as np\n",
    "\n",
    "import matplotlib.pyplot as plt\n",
    "\n",
    "import time\n",
    "\n",
    "np.random.seed(69)"
   ]
  },
  {
   "cell_type": "markdown",
   "metadata": {},
   "source": [
    "## Prep train data"
   ]
  },
  {
   "cell_type": "code",
   "execution_count": 35,
   "metadata": {},
   "outputs": [],
   "source": [
    "datasets = sio.loadmat('./data.mat')"
   ]
  },
  {
   "cell_type": "code",
   "execution_count": 36,
   "metadata": {},
   "outputs": [],
   "source": [
    "# Remove keys that aren't modulation schemes\n",
    "del(datasets['__header__'], datasets['__globals__'], datasets['__version__'])"
   ]
  },
  {
   "cell_type": "code",
   "execution_count": 37,
   "metadata": {},
   "outputs": [],
   "source": [
    "# Concat all datas\n",
    "# train_data = np.concatenate([mod_scheme[0] for dataset in datasets for mod_scheme in datasets[dataset][0]], axis=0)\n",
    "train_data = np.vstack([mod_scheme[0] for dataset in datasets for mod_scheme in datasets[dataset][0]])"
   ]
  },
  {
   "cell_type": "code",
   "execution_count": 38,
   "metadata": {},
   "outputs": [
    {
     "data": {
      "text/plain": [
       "(2048, 128, 2)"
      ]
     },
     "execution_count": 38,
     "metadata": {},
     "output_type": "execute_result"
    }
   ],
   "source": [
    "train_data.shape"
   ]
  },
  {
   "cell_type": "code",
   "execution_count": 39,
   "metadata": {},
   "outputs": [
    {
     "data": {
      "text/plain": [
       "['bpsk', 'qpsk']"
      ]
     },
     "execution_count": 39,
     "metadata": {},
     "output_type": "execute_result"
    }
   ],
   "source": [
    "[dataset for dataset in datasets for mod_scheme in datasets[dataset][0]]"
   ]
  },
  {
   "cell_type": "code",
   "execution_count": 40,
   "metadata": {},
   "outputs": [],
   "source": [
    "# Number of classes\n",
    "num_classes = len(datasets)\n",
    "size = int(train_data.shape[0]/num_classes)\n",
    "\n",
    "train_labels = np.zeros((train_data.shape[0],1))\n",
    "\n",
    "for i in range(num_classes):\n",
    "    train_labels[(i)*size:(i+1)*size] = np.ones((size, 1)) * i\n",
    "\n",
    "# One hot encoding\n",
    "labels = np.reshape(train_labels, [-1]) # Reshape into (N,) from (N,1), otherwise assignments get messed up\n",
    "labels_encoded = np.zeros((labels.shape[0], num_classes))\n",
    "labels_encoded[np.arange(labels.shape[0]), labels.astype(int)] = 1\n",
    "\n",
    "train_labels = labels_encoded"
   ]
  },
  {
   "cell_type": "code",
   "execution_count": 41,
   "metadata": {},
   "outputs": [
    {
     "data": {
      "text/plain": [
       "(2048, 128, 2)"
      ]
     },
     "execution_count": 41,
     "metadata": {},
     "output_type": "execute_result"
    }
   ],
   "source": [
    "# train_data = train_data[8:-8]\n",
    "# labels_encoded = labels_encoded[8:-8]\n",
    "\n",
    "train_data.shape"
   ]
  },
  {
   "cell_type": "markdown",
   "metadata": {},
   "source": [
    "## Make model"
   ]
  },
  {
   "cell_type": "code",
   "execution_count": 42,
   "metadata": {},
   "outputs": [],
   "source": [
    "import tensorflow as tf\n",
    "\n",
    "my_input = tf.placeholder(tf.float32, shape=(None, train_data.shape[1], train_data.shape[2]))\n",
    "\n",
    "# Create conv net\n",
    "x_image = tf.reshape(my_input, [-1, train_data.shape[1], 2, 1])\n",
    "\n",
    "num_filt0 = 8\n",
    "num_filt1 = 4\n",
    "\n",
    "# First conv layer\n",
    "W_conv1 = tf.Variable(tf.truncated_normal([8, 2, 1, num_filt0], stddev=0.1))\n",
    "b_conv1 = tf.Variable(tf.constant(0.1, shape=[num_filt0]))\n",
    "\n",
    "h_conv1 = tf.nn.relu(tf.nn.conv2d(x_image, W_conv1, strides=[1, 1, 1, 1], padding='VALID') + b_conv1)\n",
    "\n",
    "# Second conv layer\n",
    "W_conv2 = tf.Variable(tf.truncated_normal([16, 1, num_filt0, num_filt1], stddev=0.1))\n",
    "b_conv2 = tf.Variable(tf.constant(0.1, shape=[num_filt1]))\n",
    "\n",
    "h_conv2 = tf.nn.relu(tf.nn.conv2d(h_conv1, W_conv2, strides=[1, 1, 1, 1], padding='VALID') + b_conv2)\n",
    "\n",
    "h_flat = tf.reshape(h_conv2, [-1, h_conv2.get_shape().as_list()[1] * num_filt1])\n",
    "\n",
    "nn_out = tf.layers.dense(inputs=h_flat, units=num_classes, activation=tf.nn.relu)"
   ]
  },
  {
   "cell_type": "markdown",
   "metadata": {},
   "source": [
    "## Set up training policy"
   ]
  },
  {
   "cell_type": "code",
   "execution_count": 43,
   "metadata": {},
   "outputs": [],
   "source": [
    "onehot_labels = tf.placeholder(tf.float32, shape=(None, num_classes))\n",
    "\n",
    "loss = tf.losses.softmax_cross_entropy(onehot_labels=onehot_labels, logits=nn_out)\n",
    "\n",
    "optimizer = tf.train.AdamOptimizer(learning_rate = 0.003)\n",
    "\n",
    "train_op = optimizer.minimize(loss)\n",
    "\n",
    "correct_prediction = tf.equal(tf.argmax(nn_out, 1), tf.argmax(onehot_labels, 1))\n",
    "accuracy = tf.reduce_mean(tf.cast(correct_prediction, tf.float32))"
   ]
  },
  {
   "cell_type": "markdown",
   "metadata": {},
   "source": [
    "## Train and show loss"
   ]
  },
  {
   "cell_type": "code",
   "execution_count": 44,
   "metadata": {
    "scrolled": false
   },
   "outputs": [
    {
     "name": "stdout",
     "output_type": "stream",
     "text": [
      "Epoch 0, loss 0.383692, training accuracy 0.875\n",
      "Epoch 1, loss 0.00259993, training accuracy 1\n",
      "Epoch 2, loss 0.00561037, training accuracy 1\n",
      "Epoch 3, loss 0.000904533, training accuracy 1\n",
      "Epoch 4, loss 0.000875185, training accuracy 1\n",
      "Epoch 5, loss 0.00231596, training accuracy 1\n",
      "Epoch 6, loss 0.000495757, training accuracy 1\n",
      "Epoch 7, loss 0.000254092, training accuracy 1\n",
      "Epoch 8, loss 0.000253126, training accuracy 1\n",
      "Epoch 9, loss 0.000247547, training accuracy 1\n",
      "Epoch 10, loss 7.17047e-05, training accuracy 1\n",
      "Epoch 11, loss 5.21066e-05, training accuracy 1\n",
      "Epoch 12, loss 0.000140497, training accuracy 1\n",
      "Epoch 13, loss 6.59159e-05, training accuracy 1\n",
      "Epoch 14, loss 0.000100866, training accuracy 1\n",
      "Epoch 15, loss 3.04565e-05, training accuracy 1\n",
      "Epoch 16, loss 4.14445e-05, training accuracy 1\n",
      "Epoch 17, loss 2.98664e-05, training accuracy 1\n",
      "Epoch 18, loss 2.27453e-05, training accuracy 1\n",
      "Epoch 19, loss 1.762e-05, training accuracy 1\n"
     ]
    },
    {
     "data": {
      "image/png": "[encoded data removed]",
      "text/plain": [
       "<matplotlib.figure.Figure at 0x7fd4ad958128>"
      ]
     },
     "metadata": {},
     "output_type": "display_data"
    },
    {
     "name": "stdout",
     "output_type": "stream",
     "text": [
      "8.309926509857178\n"
     ]
    }
   ],
   "source": [
    "batch_size = 32\n",
    "num_epochs = 20\n",
    "\n",
    "losses = []\n",
    "\n",
    "t = time.time()\n",
    "\n",
    "with tf.Session() as sess:\n",
    "    sess.run(tf.global_variables_initializer())\n",
    "\n",
    "    for epoch in range(num_epochs):\n",
    "        # Reshuffle after each new epoch\n",
    "        indexes = np.arange(train_labels.shape[0])\n",
    "        np.random.shuffle(indexes)\n",
    "\n",
    "        train_data = train_data[indexes]\n",
    "        train_labels = train_labels[indexes]\n",
    "\n",
    "        for i in range(int(train_labels.shape[0]/batch_size)):\n",
    "            batch = train_data[range(i*batch_size,(i+1)*batch_size)]\n",
    "            batch_labels = train_labels[range(i*batch_size,(i+1)*batch_size)]\n",
    "\n",
    "            train_op.run(feed_dict={my_input: batch, onehot_labels: batch_labels})\n",
    "\n",
    "            train_accuracy = accuracy.eval(feed_dict={my_input: batch, onehot_labels: batch_labels})\n",
    "            train_loss = loss.eval(feed_dict={my_input: batch, onehot_labels: batch_labels})\n",
    "\n",
    "        losses.append(train_loss)\n",
    "        print('Epoch %d, loss %g, training accuracy %g' % (epoch, train_loss, train_accuracy))\n",
    "        \n",
    "\n",
    "elapsed = time.time() - t\n",
    "\n",
    "plt.plot(losses)\n",
    "plt.show()\n",
    "\n",
    "print(elapsed)"
   ]
  },
  {
   "cell_type": "code",
   "execution_count": null,
   "metadata": {},
   "outputs": [],
   "source": []
  }
 ],
 "metadata": {
  "kernelspec": {
   "display_name": "Python 3",
   "language": "python",
   "name": "python3"
  },
  "language_info": {
   "codemirror_mode": {
    "name": "ipython",
    "version": 3
   },
   "file_extension": ".py",
   "mimetype": "text/x-python",
   "name": "python",
   "nbconvert_exporter": "python",
   "pygments_lexer": "ipython3",
   "version": "3.6.3"
  }
 },
 "nbformat": 4,
 "nbformat_minor": 2
}
