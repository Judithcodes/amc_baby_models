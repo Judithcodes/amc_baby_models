{
 "cells": [
  {
   "cell_type": "markdown",
   "metadata": {},
   "source": [
    "## Import stuff and set random seed"
   ]
  },
  {
   "cell_type": "code",
   "execution_count": 13,
   "metadata": {},
   "outputs": [],
   "source": [
    "import scipy.io as sio\n",
    "import numpy as np\n",
    "\n",
    "import matplotlib.pyplot as plt\n",
    "\n",
    "import time\n",
    "\n",
    "np.random.seed(69)"
   ]
  },
  {
   "cell_type": "markdown",
   "metadata": {},
   "source": [
    "## Prep train data"
   ]
  },
  {
   "cell_type": "code",
   "execution_count": 14,
   "metadata": {},
   "outputs": [],
   "source": [
    "datasets = sio.loadmat('./data.mat')"
   ]
  },
  {
   "cell_type": "code",
   "execution_count": 15,
   "metadata": {},
   "outputs": [],
   "source": [
    "# Remove keys that aren't modulation schemes\n",
    "del(datasets['__header__'], datasets['__globals__'], datasets['__version__'])"
   ]
  },
  {
   "cell_type": "code",
   "execution_count": 16,
   "metadata": {},
   "outputs": [],
   "source": [
    "# Concat all datas\n",
    "# train_data = np.concatenate([mod_scheme[0] for dataset in datasets for mod_scheme in datasets[dataset][0]], axis=0)\n",
    "train_data = np.vstack([mod_scheme[0] for dataset in datasets for mod_scheme in datasets[dataset][0]])"
   ]
  },
  {
   "cell_type": "code",
   "execution_count": 17,
   "metadata": {},
   "outputs": [
    {
     "data": {
      "text/plain": [
       "(2048, 128, 2)"
      ]
     },
     "execution_count": 17,
     "metadata": {},
     "output_type": "execute_result"
    }
   ],
   "source": [
    "train_data.shape"
   ]
  },
  {
   "cell_type": "code",
   "execution_count": 18,
   "metadata": {},
   "outputs": [
    {
     "data": {
      "text/plain": [
       "['bpsk', 'qpsk']"
      ]
     },
     "execution_count": 18,
     "metadata": {},
     "output_type": "execute_result"
    }
   ],
   "source": [
    "[dataset for dataset in datasets for mod_scheme in datasets[dataset][0]]"
   ]
  },
  {
   "cell_type": "code",
   "execution_count": 19,
   "metadata": {},
   "outputs": [],
   "source": [
    "# Number of classes\n",
    "num_classes = len(datasets)\n",
    "size = int(train_data.shape[0]/num_classes)\n",
    "\n",
    "train_labels = np.zeros((train_data.shape[0],1))\n",
    "\n",
    "for i in range(num_classes):\n",
    "    train_labels[(i)*size:(i+1)*size] = np.ones((size, 1)) * i\n",
    "\n",
    "# One hot encoding\n",
    "labels = np.reshape(train_labels, [-1]) # Reshape into (N,) from (N,1), otherwise assignments get messed up\n",
    "labels_encoded = np.zeros((labels.shape[0], num_classes))\n",
    "labels_encoded[np.arange(labels.shape[0]), labels.astype(int)] = 1\n",
    "\n",
    "train_labels = labels_encoded"
   ]
  },
  {
   "cell_type": "code",
   "execution_count": 20,
   "metadata": {},
   "outputs": [
    {
     "data": {
      "text/plain": [
       "(2048, 128, 2)"
      ]
     },
     "execution_count": 20,
     "metadata": {},
     "output_type": "execute_result"
    }
   ],
   "source": [
    "# train_data = train_data[8:-8]\n",
    "# labels_encoded = labels_encoded[8:-8]\n",
    "\n",
    "train_data.shape"
   ]
  },
  {
   "cell_type": "markdown",
   "metadata": {},
   "source": [
    "## Make model"
   ]
  },
  {
   "cell_type": "code",
   "execution_count": 21,
   "metadata": {},
   "outputs": [
    {
     "data": {
      "text/plain": [
       "'0.4.0'"
      ]
     },
     "execution_count": 21,
     "metadata": {},
     "output_type": "execute_result"
    }
   ],
   "source": [
    "import torch\n",
    "import torch.nn as nn\n",
    "import torch.nn.functional as F\n",
    "\n",
    "torch.__version__"
   ]
  },
  {
   "cell_type": "code",
   "execution_count": 22,
   "metadata": {},
   "outputs": [],
   "source": [
    "import torch.nn as nn\n",
    "import torch.nn.functional as F\n",
    "\n",
    "\n",
    "class Net(nn.Module):\n",
    "    def __init__(self):\n",
    "        super(Net, self).__init__()\n",
    "        self.conv1 = nn.Conv2d(1, 8, (8,2), 1)\n",
    "        self.conv2 = nn.Conv2d(8, 4, (16,1), 1)\n",
    "        self.fc1 = nn.Linear(4 * 106, 128)\n",
    "        self.fc2 = nn.Linear(128, 2)\n",
    "\n",
    "    def forward(self, x):\n",
    "        x = x.view(-1, 1, 128, 2)\n",
    "        x = F.relu(self.conv1(x))\n",
    "        x = F.relu(self.conv2(x))\n",
    "        x = x.view(-1, self.num_flat_features(x))\n",
    "        x = F.relu(self.fc1(x))\n",
    "        x = self.fc2(x)\n",
    "        return x\n",
    "    \n",
    "    def num_flat_features(self, x):\n",
    "        size = x.size()[1:]  # all dimensions except the batch dimension\n",
    "        num_features = 1\n",
    "        for s in size:\n",
    "            num_features *= s\n",
    "        return num_features\n",
    "\n",
    "\n",
    "net = Net()"
   ]
  },
  {
   "cell_type": "markdown",
   "metadata": {},
   "source": [
    "## Set up training policy"
   ]
  },
  {
   "cell_type": "code",
   "execution_count": 23,
   "metadata": {},
   "outputs": [],
   "source": [
    "import torch.optim as optim\n",
    "\n",
    "criterion = nn.CrossEntropyLoss()\n",
    "optimizer = optim.Adam(net.parameters(), lr=0.003)"
   ]
  },
  {
   "cell_type": "markdown",
   "metadata": {},
   "source": [
    "## Train and show loss"
   ]
  },
  {
   "cell_type": "code",
   "execution_count": 24,
   "metadata": {
    "scrolled": false
   },
   "outputs": [
    {
     "name": "stdout",
     "output_type": "stream",
     "text": [
      "Epoch 0, loss 0.0376541\n",
      "Epoch 1, loss 3.40751e-05\n",
      "Epoch 2, loss 2.03032e-06\n",
      "Epoch 3, loss 1.81384e-06\n",
      "Epoch 4, loss 2.28199e-06\n",
      "Epoch 5, loss 1.34849e-06\n",
      "Epoch 6, loss 9.88841e-07\n",
      "Epoch 7, loss 1.41946e-06\n",
      "Epoch 8, loss 1.31889e-06\n",
      "Epoch 9, loss 1.41602e-06\n",
      "Epoch 10, loss 8.92932e-07\n",
      "Epoch 11, loss 7.44118e-07\n",
      "Epoch 12, loss 1.4349e-06\n",
      "Epoch 13, loss 1.43169e-06\n",
      "Epoch 14, loss 9.55149e-07\n",
      "Epoch 15, loss 8.4316e-07\n",
      "Epoch 16, loss 7.13483e-07\n",
      "Epoch 17, loss 9.00285e-07\n",
      "Epoch 18, loss 5.62437e-07\n",
      "Epoch 19, loss 8.48637e-07\n"
     ]
    },
    {
     "data": {
      "image/png": "[encoded data removed]",
      "text/plain": [
       "<matplotlib.figure.Figure at 0x7fd0bfadc400>"
      ]
     },
     "metadata": {},
     "output_type": "display_data"
    },
    {
     "name": "stdout",
     "output_type": "stream",
     "text": [
      "4.427897930145264\n"
     ]
    }
   ],
   "source": [
    "batch_size = 32\n",
    "num_epochs = 20\n",
    "\n",
    "losses = []\n",
    "\n",
    "t = time.time()\n",
    "\n",
    "for epoch in range(num_epochs):\n",
    "\n",
    "    # Randomize\n",
    "    indexes = np.arange(train_labels.shape[0])\n",
    "    np.random.shuffle(indexes)\n",
    "\n",
    "    train_data = train_data[indexes]\n",
    "    train_labels = train_labels[indexes]\n",
    "\n",
    "    for i in range(int(train_data.shape[0]/batch_size)):\n",
    "        \n",
    "        batch = train_data[range(i*batch_size,(i+1)*batch_size)]\n",
    "        batch_labels = train_labels[range(i*batch_size,(i+1)*batch_size)]\n",
    "        \n",
    "        # zero the parameter gradients\n",
    "        optimizer.zero_grad()\n",
    "\n",
    "        # forward + backward + optimize\n",
    "        outputs = net(torch.tensor(batch, dtype=torch.float32))\n",
    "        train_loss = criterion(outputs, torch.max(torch.tensor(batch_labels), 1)[1])\n",
    "        train_loss.backward()\n",
    "        optimizer.step()\n",
    "\n",
    "    losses.append(train_loss)\n",
    "    print('Epoch %d, loss %g' % (epoch, train_loss))\n",
    "\n",
    "elapsed = time.time() - t\n",
    "\n",
    "plt.plot(losses)\n",
    "plt.show()\n",
    "\n",
    "print(elapsed)"
   ]
  },
  {
   "cell_type": "code",
   "execution_count": null,
   "metadata": {},
   "outputs": [],
   "source": []
  }
 ],
 "metadata": {
  "kernelspec": {
   "display_name": "Python 3",
   "language": "python",
   "name": "python3"
  },
  "language_info": {
   "codemirror_mode": {
    "name": "ipython",
    "version": 3
   },
   "file_extension": ".py",
   "mimetype": "text/x-python",
   "name": "python",
   "nbconvert_exporter": "python",
   "pygments_lexer": "ipython3",
   "version": "3.6.3"
  }
 },
 "nbformat": 4,
 "nbformat_minor": 2
}
